{
  "nbformat": 4,
  "nbformat_minor": 0,
  "metadata": {
    "colab": {
      "name": "Parament_colab_test.ipynb",
      "provenance": [],
      "collapsed_sections": [],
      "authorship_tag": "ABX9TyNnCwmWMP+CgoKp3xRlpTzC",
      "include_colab_link": true
    },
    "kernelspec": {
      "name": "python3",
      "display_name": "Python 3"
    },
    "language_info": {
      "name": "python"
    },
    "accelerator": "GPU"
  },
  "cells": [
    {
      "cell_type": "markdown",
      "metadata": {
        "id": "view-in-github",
        "colab_type": "text"
      },
      "source": [
        "<a href=\"https://colab.research.google.com/github/parament-integrator/examples/blob/master/Parament_colab_test.ipynb\" target=\"_parent\"><img src=\"https://colab.research.google.com/assets/colab-badge.svg\" alt=\"Open In Colab\"/></a>"
      ]
    },
    {
      "cell_type": "markdown",
      "metadata": {
        "id": "rVtW57lae94h"
      },
      "source": [
        "Install the latest version of parament from Github."
      ]
    },
    {
      "cell_type": "code",
      "metadata": {
        "colab": {
          "base_uri": "https://localhost:8080/"
        },
        "id": "l19hcEb-ULNR",
        "outputId": "496f377c-26e8-46c6-8afa-f4cc07b49308"
      },
      "source": [
        "!NVCC_ARGS=\"-arch=compute_37\" pip install git+https://github.com/parament-integrator/parament#subdirectory=src"
      ],
      "execution_count": null,
      "outputs": [
        {
          "output_type": "stream",
          "text": [
            "Collecting git+https://github.com/parament-integrator/parament#subdirectory=src\n",
            "  Cloning https://github.com/parament-integrator/parament to /tmp/pip-req-build-qkcp4igs\n",
            "  Running command git clone -q https://github.com/parament-integrator/parament /tmp/pip-req-build-qkcp4igs\n",
            "Requirement already satisfied: numpy in /usr/local/lib/python3.7/dist-packages (from parament==0.1) (1.19.5)\n",
            "Building wheels for collected packages: parament\n",
            "  Building wheel for parament (setup.py) ... \u001b[?25l\u001b[?25hdone\n",
            "  Created wheel for parament: filename=parament-0.1-py3-none-linux_x86_64.whl size=779962 sha256=446be71fed7393619a6d6d2b510c670fde4ed02a8a03ba3b60f79ef9d1c23172\n",
            "  Stored in directory: /tmp/pip-ephem-wheel-cache-35l5odqj/wheels/30/d6/35/c1497ea3f67415126ff9dcde263bc6c57e63b2e80d38e99fc5\n",
            "Successfully built parament\n",
            "Installing collected packages: parament\n",
            "Successfully installed parament-0.1\n"
          ],
          "name": "stdout"
        }
      ]
    },
    {
      "cell_type": "markdown",
      "metadata": {
        "id": "FZj_w-o5fG66"
      },
      "source": [
        "Run the Parament testsuite."
      ]
    },
    {
      "cell_type": "code",
      "metadata": {
        "colab": {
          "base_uri": "https://localhost:8080/"
        },
        "id": "VsznABnVWxGy",
        "outputId": "71d28521-312d-4056-ec9e-896b07a2a79f"
      },
      "source": [
        "import pytest\n",
        "pytest.main([\"--pyargs\", \"parament\"])"
      ],
      "execution_count": null,
      "outputs": [
        {
          "output_type": "stream",
          "text": [
            "============================= test session starts ==============================\n",
            "platform linux -- Python 3.7.10, pytest-3.6.4, py-1.10.0, pluggy-0.7.1\n",
            "rootdir: /content, inifile:\n",
            "plugins: typeguard-2.7.1\n",
            "collected 3 items\n",
            "\n",
            "parament/test/test_numerics.py .                                         [ 33%]\n",
            "parament/test/test_wrapper.py ..                                         [100%]\n",
            "\n",
            "=========================== 3 passed in 2.98 seconds ===========================\n"
          ],
          "name": "stdout"
        },
        {
          "output_type": "execute_result",
          "data": {
            "text/plain": [
              "0"
            ]
          },
          "metadata": {
            "tags": []
          },
          "execution_count": 2
        }
      ]
    },
    {
      "cell_type": "code",
      "metadata": {
        "id": "fhbmeF73coEc",
        "colab": {
          "base_uri": "https://localhost:8080/"
        },
        "outputId": "ca5bd609-9936-42cc-c3f7-8dfe0be84d9e"
      },
      "source": [
        "!nvidia-smi"
      ],
      "execution_count": null,
      "outputs": [
        {
          "output_type": "stream",
          "text": [
            "Thu May 27 10:10:07 2021       \n",
            "+-----------------------------------------------------------------------------+\n",
            "| NVIDIA-SMI 465.19.01    Driver Version: 460.32.03    CUDA Version: 11.2     |\n",
            "|-------------------------------+----------------------+----------------------+\n",
            "| GPU  Name        Persistence-M| Bus-Id        Disp.A | Volatile Uncorr. ECC |\n",
            "| Fan  Temp  Perf  Pwr:Usage/Cap|         Memory-Usage | GPU-Util  Compute M. |\n",
            "|                               |                      |               MIG M. |\n",
            "|===============================+======================+======================|\n",
            "|   0  Tesla K80           Off  | 00000000:00:04.0 Off |                    0 |\n",
            "| N/A   73C    P0    74W / 149W |     95MiB / 11441MiB |      0%      Default |\n",
            "|                               |                      |                  N/A |\n",
            "+-------------------------------+----------------------+----------------------+\n",
            "                                                                               \n",
            "+-----------------------------------------------------------------------------+\n",
            "| Processes:                                                                  |\n",
            "|  GPU   GI   CI        PID   Type   Process name                  GPU Memory |\n",
            "|        ID   ID                                                   Usage      |\n",
            "|=============================================================================|\n",
            "+-----------------------------------------------------------------------------+\n"
          ],
          "name": "stdout"
        }
      ]
    },
    {
      "cell_type": "code",
      "metadata": {
        "id": "-kaVHU-ySy6C"
      },
      "source": [
        ""
      ],
      "execution_count": null,
      "outputs": []
    }
  ]
}