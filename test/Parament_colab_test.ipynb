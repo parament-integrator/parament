{
  "nbformat": 4,
  "nbformat_minor": 0,
  "metadata": {
    "colab": {
      "name": "Parament_test.ipynb",
      "provenance": [],
      "collapsed_sections": []
    },
    "kernelspec": {
      "name": "python3",
      "display_name": "Python 3"
    },
    "language_info": {
      "name": "python"
    },
    "accelerator": "GPU"
  },
  "cells": [
    {
      "cell_type": "markdown",
      "metadata": {
        "id": "rVtW57lae94h"
      },
      "source": [
        "Install the latest version of parament from Github."
      ]
    },
    {
      "cell_type": "code",
      "metadata": {
        "colab": {
          "base_uri": "https://localhost:8080/"
        },
        "id": "l19hcEb-ULNR",
        "outputId": "460319ba-3665-4e7c-d48d-910f27d96c1f"
      },
      "source": [
        "!NVCC_ARGS=\"-arch=compute_37\" pip install pytest-cov git+https://github.com/parament-integrator/parament#subdirectory=src"
      ],
      "execution_count": 2,
      "outputs": [
        {
          "output_type": "stream",
          "text": [
            "Collecting git+https://github.com/parament-integrator/parament#subdirectory=src\n",
            "  Cloning https://github.com/parament-integrator/parament to /tmp/pip-req-build-nm1waem9\n",
            "  Running command git clone -q https://github.com/parament-integrator/parament /tmp/pip-req-build-nm1waem9\n",
            "Requirement already satisfied: numpy in /usr/local/lib/python3.7/dist-packages (from parament==0.1) (1.19.5)\n",
            "Building wheels for collected packages: parament\n",
            "  Building wheel for parament (setup.py) ... \u001b[?25l\u001b[?25hdone\n",
            "  Created wheel for parament: filename=parament-0.1-py3-none-linux_x86_64.whl size=784048 sha256=68a651c23fddf6e1d65b0dbfaf813bb03fdf290bc426598da6aca2f6a41252bb\n",
            "  Stored in directory: /tmp/pip-ephem-wheel-cache-98v_kcr6/wheels/30/d6/35/c1497ea3f67415126ff9dcde263bc6c57e63b2e80d38e99fc5\n",
            "Successfully built parament\n",
            "Installing collected packages: parament\n",
            "Successfully installed parament-0.1\n"
          ],
          "name": "stdout"
        }
      ]
    },
    {
      "cell_type": "markdown",
      "metadata": {
        "id": "FZj_w-o5fG66"
      },
      "source": [
        "Run the Parament testsuite."
      ]
    },
    {
      "cell_type": "code",
      "metadata": {
        "colab": {
          "base_uri": "https://localhost:8080/"
        },
        "id": "VsznABnVWxGy",
        "outputId": "be8961e7-6447-474a-b2da-b50bd9b1bc35"
      },
      "source": [
        "import pytest\n",
        "pytest.main([\"--cov=parament\", \"--cov-report\", \"xml\", \"--cov-report\", \"term\",\n",
        "             \"--junitxml=report_test.xml\", \"--pyargs\", \"parament\"])"
      ],
      "execution_count": 1,
      "outputs": [
        {
          "output_type": "stream",
          "text": [
            "============================= test session starts ==============================\n",
            "platform linux -- Python 3.7.10, pytest-6.2.4, py-1.10.0, pluggy-0.13.1\n",
            "rootdir: /content\n",
            "plugins: cov-2.12.1, typeguard-2.7.1\n",
            "collected 15 items\n",
            "\n",
            "test/test_error.py .....                                                 [ 33%]\n",
            "test/test_numerics.py ........                                           [ 86%]\n",
            "test/test_wrapper.py ..                                                  [100%]\n",
            "\n",
            "----------------- generated xml file: /content/report_test.xml -----------------\n",
            "\n",
            "---------- coverage: platform linux, python 3.7.10-final-0 -----------\n",
            "Name                                                                    Stmts   Miss  Cover\n",
            "-------------------------------------------------------------------------------------------\n",
            "/usr/local/lib/python3.7/dist-packages/parament/__init__.py                 3      0   100%\n",
            "/usr/local/lib/python3.7/dist-packages/parament/constants.py               13      0   100%\n",
            "/usr/local/lib/python3.7/dist-packages/parament/debug_functions.py         11      0   100%\n",
            "/usr/local/lib/python3.7/dist-packages/parament/parament.py               118     17    86%\n",
            "/usr/local/lib/python3.7/dist-packages/parament/paramentlib.py             38     12    68%\n",
            "/usr/local/lib/python3.7/dist-packages/parament/qutip_mock.py               2      0   100%\n",
            "/usr/local/lib/python3.7/dist-packages/parament/test/__init__.py            0      0   100%\n",
            "/usr/local/lib/python3.7/dist-packages/parament/test/test_error.py         27      0   100%\n",
            "/usr/local/lib/python3.7/dist-packages/parament/test/test_numerics.py      70      0   100%\n",
            "/usr/local/lib/python3.7/dist-packages/parament/test/test_wrapper.py       16      0   100%\n",
            "-------------------------------------------------------------------------------------------\n",
            "TOTAL                                                                     298     29    90%\n",
            "Coverage XML written to file coverage.xml\n",
            "\n",
            "============================== 15 passed in 3.72s ==============================\n"
          ],
          "name": "stdout"
        },
        {
          "output_type": "execute_result",
          "data": {
            "text/plain": [
              "<ExitCode.OK: 0>"
            ]
          },
          "metadata": {
            "tags": []
          },
          "execution_count": 1
        }
      ]
    },
    {
      "cell_type": "code",
      "metadata": {
        "id": "fhbmeF73coEc",
        "colab": {
          "base_uri": "https://localhost:8080/"
        },
        "outputId": "ca5bd609-9936-42cc-c3f7-8dfe0be84d9e"
      },
      "source": [
        "!nvidia-smi"
      ],
      "execution_count": null,
      "outputs": [
        {
          "output_type": "stream",
          "text": [
            "Thu May 27 10:10:07 2021       \n",
            "+-----------------------------------------------------------------------------+\n",
            "| NVIDIA-SMI 465.19.01    Driver Version: 460.32.03    CUDA Version: 11.2     |\n",
            "|-------------------------------+----------------------+----------------------+\n",
            "| GPU  Name        Persistence-M| Bus-Id        Disp.A | Volatile Uncorr. ECC |\n",
            "| Fan  Temp  Perf  Pwr:Usage/Cap|         Memory-Usage | GPU-Util  Compute M. |\n",
            "|                               |                      |               MIG M. |\n",
            "|===============================+======================+======================|\n",
            "|   0  Tesla K80           Off  | 00000000:00:04.0 Off |                    0 |\n",
            "| N/A   73C    P0    74W / 149W |     95MiB / 11441MiB |      0%      Default |\n",
            "|                               |                      |                  N/A |\n",
            "+-------------------------------+----------------------+----------------------+\n",
            "                                                                               \n",
            "+-----------------------------------------------------------------------------+\n",
            "| Processes:                                                                  |\n",
            "|  GPU   GI   CI        PID   Type   Process name                  GPU Memory |\n",
            "|        ID   ID                                                   Usage      |\n",
            "|=============================================================================|\n",
            "+-----------------------------------------------------------------------------+\n"
          ],
          "name": "stdout"
        }
      ]
    },
    {
      "cell_type": "code",
      "metadata": {
        "id": "nhHvDAKqqHX0"
      },
      "source": [
        ""
      ],
      "execution_count": null,
      "outputs": []
    }
  ]
}
